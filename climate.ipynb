{
 "cells": [
  {
   "cell_type": "code",
   "execution_count": null,
   "metadata": {},
   "outputs": [],
   "source": [
    "%matplotlib inline\n",
    "from matplotlib import style\n",
    "style.use('fivethirtyeight')\n",
    "import matplotlib.pyplot as plt"
   ]
  },
  {
   "cell_type": "code",
   "execution_count": 2,
   "metadata": {},
   "outputs": [],
   "source": [
    "import numpy as np\n",
    "import pandas as pd"
   ]
  },
  {
   "cell_type": "code",
   "execution_count": 3,
   "metadata": {},
   "outputs": [],
   "source": [
    "import datetime as dt\n",
    "from dateutil.relativedelta import relativedelta"
   ]
  },
  {
   "cell_type": "code",
   "execution_count": 24,
   "metadata": {},
   "outputs": [],
   "source": [
    "from scipy import stats\n",
    "from scipy import mean"
   ]
  },
  {
   "cell_type": "markdown",
   "metadata": {},
   "source": [
    "# Reflect Tables into SQLAlchemy ORM"
   ]
  },
  {
   "cell_type": "code",
   "execution_count": 4,
   "metadata": {},
   "outputs": [],
   "source": [
    "# Python SQL toolkit and Object Relational Mapper\n",
    "import sqlalchemy\n",
    "from sqlalchemy.ext.automap import automap_base\n",
    "from sqlalchemy.orm import Session\n",
    "from sqlalchemy import create_engine, func, inspect"
   ]
  },
  {
   "cell_type": "code",
   "execution_count": 5,
   "metadata": {},
   "outputs": [],
   "source": [
    "engine = create_engine(\"sqlite:///Resources/hawaii.sqlite\")"
   ]
  },
  {
   "cell_type": "code",
   "execution_count": 6,
   "metadata": {},
   "outputs": [],
   "source": [
    "# reflect an existing database into a new model\n",
    "Base = automap_base()\n",
    "# reflect the tables\n",
    "Base.prepare(engine, reflect=True)"
   ]
  },
  {
   "cell_type": "code",
   "execution_count": 7,
   "metadata": {},
   "outputs": [
    {
     "data": {
      "text/plain": [
       "['measurement', 'station']"
      ]
     },
     "execution_count": 7,
     "metadata": {},
     "output_type": "execute_result"
    }
   ],
   "source": [
    "# We can view all of the classes that automap found\n",
    "Base.classes.keys()"
   ]
  },
  {
   "cell_type": "code",
   "execution_count": 8,
   "metadata": {},
   "outputs": [],
   "source": [
    "# Save references to each table\n",
    "Measurement = Base.classes.measurement\n",
    "Station = Base.classes.station"
   ]
  },
  {
   "cell_type": "code",
   "execution_count": 9,
   "metadata": {},
   "outputs": [],
   "source": [
    "# Create our session (link) from Python to the DB\n",
    "session = Session(engine)"
   ]
  },
  {
   "cell_type": "markdown",
   "metadata": {},
   "source": [
    "# Exploratory Climate Analysis"
   ]
  },
  {
   "cell_type": "code",
   "execution_count": 10,
   "metadata": {},
   "outputs": [
    {
     "name": "stdout",
     "output_type": "stream",
     "text": [
      "            prcp\n",
      "date            \n",
      "2016-08-23  0.00\n",
      "2016-08-24  0.08\n",
      "2016-08-25  0.08\n",
      "2016-08-26  0.00\n",
      "2016-08-27  0.00\n",
      "...          ...\n",
      "2017-08-17  0.13\n",
      "2017-08-19  0.09\n",
      "2017-08-21  0.56\n",
      "2017-08-22  0.50\n",
      "2017-08-23  0.45\n",
      "\n",
      "[2021 rows x 1 columns]\n"
     ]
    },
    {
     "data": {
      "image/png": "[encoded data removed]",
      "text/plain": [
       "<Figure size 720x504 with 1 Axes>"
      ]
     },
     "metadata": {
      "needs_background": "light"
     },
     "output_type": "display_data"
    }
   ],
   "source": [
    "# Design a query to retrieve the last 12 months of precipitation data and plot the results\n",
    "\n",
    "# Calculate the date 1 year ago from the last data point in the database\n",
    "last_measurement_data_point_tuple = session.query(Measurement.date).order_by(Measurement.date.desc()).first()\n",
    "(latest_date, ) = last_measurement_data_point_tuple\n",
    "latest_date = dt.datetime.strptime(latest_date, '%Y-%m-%d')\n",
    "latest_date = latest_date.date()\n",
    "date_year_ago = latest_date - relativedelta(years=1)\n",
    "\n",
    "# Perform a query to retrieve the data and precipitation scores\n",
    "data_from_last_year = session.query(Measurement.date, Measurement.prcp).filter(Measurement.date >= date_year_ago).all()\n",
    "\n",
    "# Save the query results as a Pandas DataFrame.\n",
    "last_year_data_df = pd.DataFrame(data_from_last_year, columns=['date', 'prcp'])\n",
    "\n",
    "# Drop null values (if any).\n",
    "last_year_data_df = last_year_data_df.dropna(how=\"any\")\n",
    "\n",
    "# Set the index to the date column.\n",
    "last_year_data_df = last_year_data_df.set_index(\"date\")\n",
    "print(last_year_data_df)\n",
    "\n",
    "# Sort the dataframe by date.\n",
    "last_year_data_df = last_year_data_df.sort_values(by=['date'])\n",
    "\n",
    "# Use pandas plotting with matplotlib to plot the data.\n",
    "# Adjust figure size\n",
    "plt.figure(figsize=(10, 7))\n",
    "\n",
    "# Plot it.\n",
    "x_axis = last_year_data_df.index.tolist()\n",
    "y_axis = last_year_data_df['prcp'].tolist()\n",
    "plt.bar(x_axis, y_axis, width=3, label=\"Amount of Precipitation (Inches)\")\n",
    "\n",
    "# Add legend\n",
    "plt.legend(loc=\"upper right\")\n",
    "\n",
    "# Add labels to axes.\n",
    "plt.xlabel(\"Date\")\n",
    "plt.ylabel(\"Amount of Precipitation (Inches)\")\n",
    "\n",
    "# Set a title for the chart\n",
    "plt.title(f\"Amount of precipitation (inches) from {date_year_ago} to {latest_date}\")\n",
    "\n",
    "plt.tick_params(\n",
    "    axis='x',         \n",
    "    which='both',    \n",
    "    bottom=False,      \n",
    "    top=False,        \n",
    "    labelbottom=False\n",
    ")\n",
    "\n",
    "# Tighten the graph up so it displays nicely.\n",
    "plt.tight_layout()\n",
    "\n",
    "# Add grid lines.\n",
    "plt.grid(zorder=0)\n",
    "\n",
    "# Save figure\n",
    "plt.savefig(f\"./Images/precipitation_data_from_{date_year_ago}_to_{latest_date}.png\", bbox_inches='tight')\n",
    "\n",
    "# Show graph.\n",
    "plt.show()"
   ]
  },
  {
   "cell_type": "code",
   "execution_count": 11,
   "metadata": {},
   "outputs": [
    {
     "data": {
      "text/html": [
       "<div>\n",
       "<style scoped>\n",
       "    .dataframe tbody tr th:only-of-type {\n",
       "        vertical-align: middle;\n",
       "    }\n",
       "\n",
       "    .dataframe tbody tr th {\n",
       "        vertical-align: top;\n",
       "    }\n",
       "\n",
       "    .dataframe thead th {\n",
       "        text-align: right;\n",
       "    }\n",
       "</style>\n",
       "<table border=\"1\" class=\"dataframe\">\n",
       "  <thead>\n",
       "    <tr style=\"text-align: right;\">\n",
       "      <th></th>\n",
       "      <th>prcp</th>\n",
       "    </tr>\n",
       "  </thead>\n",
       "  <tbody>\n",
       "    <tr>\n",
       "      <td>count</td>\n",
       "      <td>2021.000000</td>\n",
       "    </tr>\n",
       "    <tr>\n",
       "      <td>mean</td>\n",
       "      <td>0.177279</td>\n",
       "    </tr>\n",
       "    <tr>\n",
       "      <td>std</td>\n",
       "      <td>0.461190</td>\n",
       "    </tr>\n",
       "    <tr>\n",
       "      <td>min</td>\n",
       "      <td>0.000000</td>\n",
       "    </tr>\n",
       "    <tr>\n",
       "      <td>25%</td>\n",
       "      <td>0.000000</td>\n",
       "    </tr>\n",
       "    <tr>\n",
       "      <td>50%</td>\n",
       "      <td>0.020000</td>\n",
       "    </tr>\n",
       "    <tr>\n",
       "      <td>75%</td>\n",
       "      <td>0.130000</td>\n",
       "    </tr>\n",
       "    <tr>\n",
       "      <td>max</td>\n",
       "      <td>6.700000</td>\n",
       "    </tr>\n",
       "  </tbody>\n",
       "</table>\n",
       "</div>"
      ],
      "text/plain": [
       "              prcp\n",
       "count  2021.000000\n",
       "mean      0.177279\n",
       "std       0.461190\n",
       "min       0.000000\n",
       "25%       0.000000\n",
       "50%       0.020000\n",
       "75%       0.130000\n",
       "max       6.700000"
      ]
     },
     "execution_count": 11,
     "metadata": {},
     "output_type": "execute_result"
    }
   ],
   "source": [
    "# Use Pandas to calculate the summary statistics for the precipitation data\n",
    "last_year_data_df.describe()"
   ]
  },
  {
   "cell_type": "code",
   "execution_count": 12,
   "metadata": {},
   "outputs": [
    {
     "name": "stdout",
     "output_type": "stream",
     "text": [
      "Number of stations available in this dataset: 9\n"
     ]
    },
    {
     "data": {
      "text/html": [
       "<div>\n",
       "<style scoped>\n",
       "    .dataframe tbody tr th:only-of-type {\n",
       "        vertical-align: middle;\n",
       "    }\n",
       "\n",
       "    .dataframe tbody tr th {\n",
       "        vertical-align: top;\n",
       "    }\n",
       "\n",
       "    .dataframe thead th {\n",
       "        text-align: right;\n",
       "    }\n",
       "</style>\n",
       "<table border=\"1\" class=\"dataframe\">\n",
       "  <thead>\n",
       "    <tr style=\"text-align: right;\">\n",
       "      <th></th>\n",
       "      <th>Number of Stations</th>\n",
       "    </tr>\n",
       "  </thead>\n",
       "  <tbody>\n",
       "    <tr>\n",
       "      <td>0</td>\n",
       "      <td>9</td>\n",
       "    </tr>\n",
       "  </tbody>\n",
       "</table>\n",
       "</div>"
      ],
      "text/plain": [
       "   Number of Stations\n",
       "0                   9"
      ]
     },
     "execution_count": 12,
     "metadata": {},
     "output_type": "execute_result"
    }
   ],
   "source": [
    "# Design a query to show how many stations are available in this dataset\n",
    "number_stations = session.query(Station.station).count()\n",
    "\n",
    "print(f\"Number of stations available in this dataset: {number_stations}\")\n",
    "number_stations_df = pd.DataFrame({ \"Number of Stations\": number_stations}, index=[0])\n",
    "number_stations_df"
   ]
  },
  {
   "cell_type": "code",
   "execution_count": 13,
   "metadata": {},
   "outputs": [
    {
     "name": "stdout",
     "output_type": "stream",
     "text": [
      "USC00519281 2772\n",
      "USC00519397 2724\n",
      "USC00513117 2709\n",
      "USC00519523 2669\n",
      "USC00516128 2612\n",
      "USC00514830 2202\n",
      "USC00511918 1979\n",
      "USC00517948 1372\n",
      "USC00518838 511\n"
     ]
    }
   ],
   "source": [
    "# What are the most active stations? (i.e. what stations have the most rows)?\n",
    "# List the stations and the counts in descending order.\n",
    "station_counts = session.query(Measurement.station, func.count()).\\\n",
    "    group_by(Measurement.station).\\\n",
    "    order_by(func.count().desc()).\\\n",
    "    all()\n",
    "\n",
    "for station, count in station_counts:\n",
    "    print(station, count)"
   ]
  },
  {
   "cell_type": "code",
   "execution_count": 14,
   "metadata": {},
   "outputs": [
    {
     "name": "stdout",
     "output_type": "stream",
     "text": [
      "The station id of the most active station is USC00519281.\n",
      "The lowest temperature recorded at USC00519281 was 54.0.\n",
      "The highest temperature recorded at USC00519281 was 85.0.\n",
      "The average temperature recorded at USC00519281 was 71.66378066378067.\n"
     ]
    },
    {
     "data": {
      "text/html": [
       "<div>\n",
       "<style scoped>\n",
       "    .dataframe tbody tr th:only-of-type {\n",
       "        vertical-align: middle;\n",
       "    }\n",
       "\n",
       "    .dataframe tbody tr th {\n",
       "        vertical-align: top;\n",
       "    }\n",
       "\n",
       "    .dataframe thead th {\n",
       "        text-align: right;\n",
       "    }\n",
       "</style>\n",
       "<table border=\"1\" class=\"dataframe\">\n",
       "  <thead>\n",
       "    <tr style=\"text-align: right;\">\n",
       "      <th></th>\n",
       "      <th>Lowest Temperature</th>\n",
       "      <th>Highest Temperature</th>\n",
       "      <th>Average Temperature</th>\n",
       "    </tr>\n",
       "  </thead>\n",
       "  <tbody>\n",
       "    <tr>\n",
       "      <td>0</td>\n",
       "      <td>54.0</td>\n",
       "      <td>85.0</td>\n",
       "      <td>71.663781</td>\n",
       "    </tr>\n",
       "  </tbody>\n",
       "</table>\n",
       "</div>"
      ],
      "text/plain": [
       "   Lowest Temperature  Highest Temperature  Average Temperature\n",
       "0                54.0                 85.0            71.663781"
      ]
     },
     "execution_count": 14,
     "metadata": {},
     "output_type": "execute_result"
    }
   ],
   "source": [
    "# Using the station id from the previous query, calculate the lowest temperature recorded, \n",
    "# highest temperature recorded, and average temperature of the most active station?\n",
    "most_active_station = session.query(Measurement.station).\\\n",
    "        group_by(Measurement.station).\\\n",
    "        order_by(func.count().desc()).\\\n",
    "        first()\n",
    "\n",
    "(most_active_station_id, ) = most_active_station\n",
    "print(f\"The station id of the most active station is {most_active_station_id}.\")\n",
    "\n",
    "most_active_station_data = session.query(func.min(Measurement.tobs), func.max(Measurement.tobs), func.avg(Measurement.tobs)).\\\n",
    "        filter(Measurement.station == most_active_station_id) .\\\n",
    "        all()\n",
    "\n",
    "for lowest_temp, highest_temp, avg_temp in most_active_station_data:\n",
    "    print(f\"The lowest temperature recorded at {most_active_station_id} was {lowest_temp}.\")\n",
    "    print(f\"The highest temperature recorded at {most_active_station_id} was {highest_temp}.\")\n",
    "    print(f\"The average temperature recorded at {most_active_station_id} was {avg_temp}.\")\n",
    "    \n",
    "temperature_df = pd.DataFrame({\n",
    "    \"Lowest Temperature\": lowest_temp,\n",
    "    \"Highest Temperature\": highest_temp,\n",
    "    \"Average Temperature\": avg_temp\n",
    "}, index=[0])\n",
    "\n",
    "temperature_df"
   ]
  },
  {
   "cell_type": "code",
   "execution_count": 15,
   "metadata": {},
   "outputs": [
    {
     "data": {
      "image/png": "[encoded data removed]",
      "text/plain": [
       "<Figure size 432x288 with 1 Axes>"
      ]
     },
     "metadata": {
      "needs_background": "light"
     },
     "output_type": "display_data"
    }
   ],
   "source": [
    "# Choose the station with the highest number of temperature observations.\n",
    "# Query the last 12 months of temperature observation data for this station and plot the results as a histogram\n",
    "measurement_tuple = session.query(Measurement.date).\\\n",
    "    order_by(Measurement.date.desc()).\\\n",
    "    filter(Measurement.station == most_active_station_id).first()\n",
    "\n",
    "(latest_date,) = measurement_tuple\n",
    "latest_date = dt.datetime.strptime(latest_date, '%Y-%m-%d')\n",
    "latest_date = latest_date.date()\n",
    "date_year_ago = latest_date - relativedelta(years=1)\n",
    "\n",
    "last_year_data = session.query(Measurement.date, Measurement.tobs).\\\n",
    "    filter(Measurement.station == most_active_station_id).\\\n",
    "    filter(Measurement.date >= date_year_ago).all()\n",
    "    \n",
    "last_year_data_df = pd.DataFrame(last_year_data, columns=['date', 'tobs'])\n",
    "\n",
    "last_year_data_df\n",
    "\n",
    "plt.hist(last_year_data_df[\"tobs\"], bins=12, label=\"tobs\")\n",
    "plt.ylabel('Frequency')\n",
    "plt.xlabel('Temperature observations (tobs)')\n",
    "plt.title(f\"Distribution of temperature observations (tobs) from {date_year_ago} to {latest_date} for station {most_active_station_id}\")\n",
    "plt.grid(zorder=0)\n",
    "plt.legend(loc=\"upper right\")\n",
    "plt.savefig(f\"./Images/tobs_histogram_for_station_{most_active_station_id}.png\", bbox_inches='tight')\n",
    "plt.show()"
   ]
  },
  {
   "cell_type": "code",
   "execution_count": 16,
   "metadata": {},
   "outputs": [
    {
     "name": "stdout",
     "output_type": "stream",
     "text": [
      "[(62.0, 69.57142857142857, 74.0)]\n"
     ]
    }
   ],
   "source": [
    "# This function called `calc_temps` will accept start date and end date in the format '%Y-%m-%d' \n",
    "# and return the minimum, average, and maximum temperatures for that range of dates\n",
    "def calc_temps(start_date, end_date):\n",
    "    \"\"\"TMIN, TAVG, and TMAX for a list of dates.\n",
    "    \n",
    "    Args:\n",
    "        start_date (string): A date string in the format %Y-%m-%d\n",
    "        end_date (string): A date string in the format %Y-%m-%d\n",
    "        \n",
    "    Returns:\n",
    "        TMIN, TAVE, and TMAX\n",
    "    \"\"\"\n",
    "    \n",
    "    return session.query(func.min(Measurement.tobs), func.avg(Measurement.tobs), func.max(Measurement.tobs)).\\\n",
    "        filter(Measurement.date >= start_date).filter(Measurement.date <= end_date).all()\n",
    "\n",
    "# function usage example\n",
    "print(calc_temps('2012-02-28', '2012-03-05'))"
   ]
  },
  {
   "cell_type": "code",
   "execution_count": 17,
   "metadata": {},
   "outputs": [
    {
     "name": "stdout",
     "output_type": "stream",
     "text": [
      "[(62.0, 68.36585365853658, 74.0)]\n"
     ]
    }
   ],
   "source": [
    "# Use your previous function `calc_temps` to calculate the tmin, tavg, and tmax \n",
    "# for your trip using the previous year's data for those same dates.\n",
    "trip_start_date = dt.date(2017, 1 ,1)\n",
    "trip_end_date = dt.date(2017, 1 ,7)\n",
    "print(calc_temps(trip_start_date, trip_end_date))\n",
    "temps_list = calc_temps(trip_start_date, trip_end_date)"
   ]
  },
  {
   "cell_type": "code",
   "execution_count": 18,
   "metadata": {},
   "outputs": [
    {
     "data": {
      "image/png": "[encoded data removed]",
      "text/plain": [
       "<Figure size 216x432 with 1 Axes>"
      ]
     },
     "metadata": {
      "needs_background": "light"
     },
     "output_type": "display_data"
    }
   ],
   "source": [
    "# Plot the results from your previous query as a bar chart. \n",
    "# Use \"Trip Avg Temp\" as your Title\n",
    "# Use the average temperature for the y value\n",
    "# Use the peak-to-peak (tmax-tmin) value as the y error bar (yerr)\n",
    "# https://pythonforundergradengineers.com/python-matplotlib-error-bars.html\n",
    "fig, ax = plt.subplots(figsize=(3,6))\n",
    "x_pos = [1]\n",
    "avg_temp = [x[1] for x in temps_list]\n",
    "max_temp =  [x[2] for x in temps_list]\n",
    "min_temp = [x[0] for x in temps_list]\n",
    "error = max_temp[0] - min_temp[0]\n",
    "ax.bar(x_pos, avg_temp, yerr=[error], align='center', alpha=0.5, color='#66C010', capsize=3, ecolor=\"#002145\")\n",
    "ax.set_ylabel('Temp (F)')\n",
    "ax.set_xticks(x_pos, [])\n",
    "plt.tick_params(\n",
    "    axis='x',          # changes apply to the x-axis\n",
    "    which='both',      # both major and minor ticks are affected\n",
    "    bottom=False,      # ticks along the bottom edge are off\n",
    "    top=False,         # ticks along the top edge are off\n",
    "    labelbottom=False\n",
    ")\n",
    "ax.set_title('Trip Avg Temp')\n",
    "ax.yaxis.grid(True)\n",
    "\n",
    "# Save the figure and show\n",
    "plt.tight_layout()\n",
    "plt.savefig('./Images/trip_average_temp.png')\n",
    "plt.show()\n"
   ]
  },
  {
   "cell_type": "code",
   "execution_count": 19,
   "metadata": {},
   "outputs": [
    {
     "data": {
      "text/html": [
       "<div>\n",
       "<style scoped>\n",
       "    .dataframe tbody tr th:only-of-type {\n",
       "        vertical-align: middle;\n",
       "    }\n",
       "\n",
       "    .dataframe tbody tr th {\n",
       "        vertical-align: top;\n",
       "    }\n",
       "\n",
       "    .dataframe thead th {\n",
       "        text-align: right;\n",
       "    }\n",
       "</style>\n",
       "<table border=\"1\" class=\"dataframe\">\n",
       "  <thead>\n",
       "    <tr style=\"text-align: right;\">\n",
       "      <th></th>\n",
       "      <th>Station</th>\n",
       "      <th>Name</th>\n",
       "      <th>Latitude</th>\n",
       "      <th>Longitude</th>\n",
       "      <th>Elevation</th>\n",
       "      <th>Sum/Total Precipitation</th>\n",
       "    </tr>\n",
       "  </thead>\n",
       "  <tbody>\n",
       "    <tr>\n",
       "      <td>0</td>\n",
       "      <td>USC00519523</td>\n",
       "      <td>WAIMANALO EXPERIMENTAL FARM, HI US</td>\n",
       "      <td>21.33556</td>\n",
       "      <td>-157.71139</td>\n",
       "      <td>19.5</td>\n",
       "      <td>0.61</td>\n",
       "    </tr>\n",
       "    <tr>\n",
       "      <td>1</td>\n",
       "      <td>USC00516128</td>\n",
       "      <td>MANOA LYON ARBO 785.2, HI US</td>\n",
       "      <td>21.33310</td>\n",
       "      <td>-157.80250</td>\n",
       "      <td>152.4</td>\n",
       "      <td>0.60</td>\n",
       "    </tr>\n",
       "    <tr>\n",
       "      <td>2</td>\n",
       "      <td>USC00514830</td>\n",
       "      <td>KUALOA RANCH HEADQUARTERS 886.9, HI US</td>\n",
       "      <td>21.52130</td>\n",
       "      <td>-157.83740</td>\n",
       "      <td>7.0</td>\n",
       "      <td>0.60</td>\n",
       "    </tr>\n",
       "    <tr>\n",
       "      <td>3</td>\n",
       "      <td>USC00513117</td>\n",
       "      <td>KANEOHE 838.1, HI US</td>\n",
       "      <td>21.42340</td>\n",
       "      <td>-157.80150</td>\n",
       "      <td>14.6</td>\n",
       "      <td>0.35</td>\n",
       "    </tr>\n",
       "    <tr>\n",
       "      <td>4</td>\n",
       "      <td>USC00519281</td>\n",
       "      <td>WAIHEE 837.5, HI US</td>\n",
       "      <td>21.45167</td>\n",
       "      <td>-157.84889</td>\n",
       "      <td>32.9</td>\n",
       "      <td>0.20</td>\n",
       "    </tr>\n",
       "    <tr>\n",
       "      <td>5</td>\n",
       "      <td>USC00519397</td>\n",
       "      <td>WAIKIKI 717.2, HI US</td>\n",
       "      <td>21.27160</td>\n",
       "      <td>-157.81680</td>\n",
       "      <td>3.0</td>\n",
       "      <td>0.00</td>\n",
       "    </tr>\n",
       "  </tbody>\n",
       "</table>\n",
       "</div>"
      ],
      "text/plain": [
       "       Station                                    Name  Latitude  Longitude  \\\n",
       "0  USC00519523      WAIMANALO EXPERIMENTAL FARM, HI US  21.33556 -157.71139   \n",
       "1  USC00516128            MANOA LYON ARBO 785.2, HI US  21.33310 -157.80250   \n",
       "2  USC00514830  KUALOA RANCH HEADQUARTERS 886.9, HI US  21.52130 -157.83740   \n",
       "3  USC00513117                    KANEOHE 838.1, HI US  21.42340 -157.80150   \n",
       "4  USC00519281                     WAIHEE 837.5, HI US  21.45167 -157.84889   \n",
       "5  USC00519397                    WAIKIKI 717.2, HI US  21.27160 -157.81680   \n",
       "\n",
       "   Elevation  Sum/Total Precipitation  \n",
       "0       19.5                     0.61  \n",
       "1      152.4                     0.60  \n",
       "2        7.0                     0.60  \n",
       "3       14.6                     0.35  \n",
       "4       32.9                     0.20  \n",
       "5        3.0                     0.00  "
      ]
     },
     "execution_count": 19,
     "metadata": {},
     "output_type": "execute_result"
    }
   ],
   "source": [
    "# Calculate the total amount of rainfall per weather station for your trip dates using the previous year's matching dates.\n",
    "# Sort this in descending order by precipitation amount and list the station, name, latitude, longitude, and elevation\n",
    "# inspector = inspect(engine)\n",
    "\n",
    "# measurement_columns = inspector.get_columns('Measurement')\n",
    "# station_columns = inspector.get_columns('Station')\n",
    "\n",
    "# print(\"Columns in Measurement table\")\n",
    "# print(\"-----------------------------------------\")\n",
    "# for column in measurement_columns:\n",
    "#     print(column[\"name\"], column[\"type\"])\n",
    "# print(\"-----------------------------------------\")\n",
    "# print(\"Columns in Station table\")\n",
    "# print(\"-----------------------------------------\")\n",
    "# for column in station_columns:\n",
    "#     print(column[\"name\"], column[\"type\"])\n",
    "\n",
    "sel = [Measurement.station, Station.name, Station.latitude, Station.longitude, Station.elevation, func.sum(Measurement.prcp)]\n",
    "total_rainfall_per_weather_station = session.query(*sel).\\\n",
    "    filter(Measurement.station == Station.station).\\\n",
    "    filter(Measurement.date >= trip_start_date).\\\n",
    "    filter(Measurement.date <= trip_end_date).\\\n",
    "    group_by(Measurement.station).\\\n",
    "    order_by(func.sum(Measurement.prcp).desc()).all()\n",
    "    \n",
    "rainfall_df = pd.DataFrame(total_rainfall_per_weather_station, columns=[\"Station\", \"Name\", \"Latitude\", \"Longitude\", \"Elevation\", \"Sum/Total Precipitation\"])\n",
    "\n",
    "rainfall_df"
   ]
  },
  {
   "cell_type": "markdown",
   "metadata": {},
   "source": [
    "# Temperature Analysis I\n",
    "\n",
    "Hawaii is reputed to enjoy mild weather all year. Is there a meaningful difference between the temperature in, for example, June and December?"
   ]
  },
  {
   "cell_type": "code",
   "execution_count": 39,
   "metadata": {},
   "outputs": [
    {
     "name": "stdout",
     "output_type": "stream",
     "text": [
      "The average temperature in June at all stations across all available years in the dataset is 74.94411764705882 F.\n",
      "The average temperature in December at all stations across all available years in the dataset is 71.04152933421226 F.\n"
     ]
    }
   ],
   "source": [
    "# Identify the average temperature in June at all stations across all available years in the dataset. \n",
    "avg_june_temp_tuple_list = session.query(func.avg(Measurement.tobs)).\\\n",
    "                filter(func.strftime(\"%m\", Measurement.date) == \"06\").all()\n",
    "\n",
    "average_june_temp = list(np.ravel(avg_june_temp_tuple_list))[0]\n",
    "\n",
    "# Identify the average temperature in December at all stations across all available years in the dataset. \n",
    "avg_dec_temp_tuple_list = session.query(func.avg(Measurement.tobs)).\\\n",
    "                filter(func.strftime(\"%m\", Measurement.date) == \"12\").all()\n",
    "\n",
    "average_dec_temp = list(np.ravel(avg_dec_temp_tuple_list))[0]\n",
    "\n",
    "print(f\"The average temperature in June at all stations across all available years in the dataset is {average_june_temp} F.\")\n",
    "print(f\"The average temperature in December at all stations across all available years in the dataset is {average_dec_temp} F.\")"
   ]
  },
  {
   "cell_type": "code",
   "execution_count": 63,
   "metadata": {},
   "outputs": [
    {
     "data": {
      "image/png": "[encoded data removed]",
      "text/plain": [
       "<Figure size 432x288 with 2 Axes>"
      ]
     },
     "metadata": {
      "needs_background": "light"
     },
     "output_type": "display_data"
    }
   ],
   "source": [
    "june_temp_tuple_list = session.query(Measurement.tobs).\\\n",
    "                filter(func.strftime(\"%m\", Measurement.date) == \"06\").all()\n",
    "\n",
    "june_temp_list = list(np.ravel(june_temp_tuple_list))\n",
    "\n",
    "# Remove nulls (if any)\n",
    "clean_june_temp_list = []\n",
    "for temp in june_temp_list: \n",
    "    if temp != None : \n",
    "        clean_june_temp_list.append(temp)\n",
    "\n",
    "dec_temp_tuple_list = session.query(Measurement.tobs).\\\n",
    "                filter(func.strftime(\"%m\", Measurement.date) == \"12\").all()\n",
    "\n",
    "dec_temp_list = list(np.ravel(dec_temp_tuple_list))\n",
    "\n",
    "# Remove nulls (if any)\n",
    "clean_dec_temp_list = []\n",
    "for temp in dec_temp_list: \n",
    "    if temp != None : \n",
    "        clean_dec_temp_list.append(temp)\n",
    "    \n",
    "# Scatter Plot of Data\n",
    "plt.subplot(2, 1, 1)\n",
    "plt.scatter(range(len(clean_june_temp_list)), clean_june_temp_list, label=\"June Temperatures\")\n",
    "plt.scatter(range(len(clean_dec_temp_list)), clean_dec_temp_list, label=\"December Temperatures\")\n",
    "plt.legend()\n",
    "\n",
    "# Histogram Plot of Data\n",
    "plt.subplot(2, 1, 2)\n",
    "plt.hist(clean_june_temp_list, 10, density=True, alpha=0.7, label=\"June Temperatures\")\n",
    "plt.hist(clean_dec_temp_list, 10, density=True, alpha=0.7, label=\"December Temperatures\")\n",
    "plt.axvline(np.mean(clean_june_temp_list), color='k', linestyle='dashed', linewidth=1)\n",
    "plt.axvline(np.mean(clean_dec_temp_list), color='k', linestyle='dashed', linewidth=1)\n",
    "plt.legend()\n",
    "plt.savefig('./Images/june_dec_scatterplot_histogram.png')"
   ]
  },
  {
   "cell_type": "markdown",
   "metadata": {},
   "source": [
    "## Unpaired (Independent t-test)\n",
    "\n",
    "* Independent t-tests compare the means of 2 independent populations (June temperatures in Hawaii and December temperatures in Hawaii).\n",
    "* We want to use an independent t-test because we want to compare the means of two independent populations. A paired t-test (one sample t-test) looks at comparing the sample to the population, which we don't want.\n",
    "* Assumptions - Data are normally distributed, data are independent, data are homogenous (The standard deviations are roughly equal).\n",
    "* https://docs.scipy.org/doc/scipy/reference/generated/scipy.stats.ttest_ind.html"
   ]
  },
  {
   "cell_type": "code",
   "execution_count": 57,
   "metadata": {},
   "outputs": [
    {
     "data": {
      "text/plain": [
       "Ttest_indResult(statistic=31.355036920962423, pvalue=4.193529835915755e-187)"
      ]
     },
     "execution_count": 57,
     "metadata": {},
     "output_type": "execute_result"
    }
   ],
   "source": [
    "stats.ttest_ind(june_temp_list, dec_temp_list, equal_var=False)\n",
    "\n",
    "# It is a statistically significant difference in means (p-value of less than 0.05).\n",
    "# Very small value - means of these two populations are significantly different.\n",
    "# lower probability that the difference is random.\n",
    "# Reject the null hypothesis.\n",
    "# null hypothesis - there is no meaningful difference between the temperature in June and December in Hawaii."
   ]
  },
  {
   "cell_type": "markdown",
   "metadata": {},
   "source": [
    "## Temperature Analysis II"
   ]
  },
  {
   "cell_type": "code",
   "execution_count": 20,
   "metadata": {},
   "outputs": [
    {
     "data": {
      "text/plain": [
       "[(62.0, 69.15384615384616, 77.0)]"
      ]
     },
     "execution_count": 20,
     "metadata": {},
     "output_type": "execute_result"
    }
   ],
   "source": [
    "# Create a query that will calculate the daily normals \n",
    "# (i.e. the averages for tmin, tmax, and tavg for all historic data matching a specific month and day)\n",
    "\n",
    "def daily_normals(date):\n",
    "    \"\"\"Daily Normals.\n",
    "    \n",
    "    Args:\n",
    "        date (str): A date string in the format '%m-%d'\n",
    "        \n",
    "    Returns:\n",
    "        A list of tuples containing the daily normals, tmin, tavg, and tmax\n",
    "    \n",
    "    \"\"\"\n",
    "    \n",
    "    sel = [func.min(Measurement.tobs), func.avg(Measurement.tobs), func.max(Measurement.tobs)]\n",
    "    return session.query(*sel).filter(func.strftime(\"%m-%d\", Measurement.date) == date).all()\n",
    "    \n",
    "daily_normals(\"01-01\")"
   ]
  },
  {
   "cell_type": "code",
   "execution_count": 21,
   "metadata": {},
   "outputs": [],
   "source": [
    "# calculate the daily normals for your trip.\n",
    "# push each tuple of calculations into a list called `normals`.\n",
    "\n",
    "# Set the start and end date of the trip.\n",
    "start = dt.datetime.strftime(trip_start_date, \"%m-%d\")\n",
    "end = dt.datetime.strftime(trip_end_date, \"%m-%d\")\n",
    "\n",
    "# Convert from string to datetime object.\n",
    "start = dt.datetime.strptime(start, \"%m-%d\")\n",
    "end = dt.datetime.strptime(end, \"%m-%d\")\n",
    "\n",
    "# Use the start and end date to create a range of dates.\n",
    "date_array = (start + dt.timedelta(days=x) for x in range(0, ((end-start).days) + 1))\n",
    "\n",
    "# Strip off the year and save a list of %m-%d strings\n",
    "string_date_list = []\n",
    "for date_object in date_array:\n",
    "    string_date = date_object.strftime(\"%m-%d\")\n",
    "    string_date_list.append(string_date)\n",
    "\n",
    "# Loop through the list of %m-%d strings and calculate the normals for each date\n",
    "daily_normals_list = []\n",
    "for date in string_date_list:\n",
    "    daily_normals_list.append(daily_normals(date))\n",
    "\n",
    "min_temp_list = []\n",
    "avg_temp_list = []\n",
    "max_temp_list = []\n",
    "for daily_normals_item in daily_normals_list:\n",
    "    for min_temp, avg_temp, max_temp in daily_normals_item:\n",
    "        min_temp_list.append(min_temp)\n",
    "        avg_temp_list.append(avg_temp)\n",
    "        max_temp_list.append(max_temp)"
   ]
  },
  {
   "cell_type": "code",
   "execution_count": 22,
   "metadata": {},
   "outputs": [
    {
     "data": {
      "text/html": [
       "<div>\n",
       "<style scoped>\n",
       "    .dataframe tbody tr th:only-of-type {\n",
       "        vertical-align: middle;\n",
       "    }\n",
       "\n",
       "    .dataframe tbody tr th {\n",
       "        vertical-align: top;\n",
       "    }\n",
       "\n",
       "    .dataframe thead th {\n",
       "        text-align: right;\n",
       "    }\n",
       "</style>\n",
       "<table border=\"1\" class=\"dataframe\">\n",
       "  <thead>\n",
       "    <tr style=\"text-align: right;\">\n",
       "      <th></th>\n",
       "      <th>tmin</th>\n",
       "      <th>tavg</th>\n",
       "      <th>tmax</th>\n",
       "    </tr>\n",
       "    <tr>\n",
       "      <th>trip_dates</th>\n",
       "      <th></th>\n",
       "      <th></th>\n",
       "      <th></th>\n",
       "    </tr>\n",
       "  </thead>\n",
       "  <tbody>\n",
       "    <tr>\n",
       "      <td>01-01</td>\n",
       "      <td>62.0</td>\n",
       "      <td>69.153846</td>\n",
       "      <td>77.0</td>\n",
       "    </tr>\n",
       "    <tr>\n",
       "      <td>01-02</td>\n",
       "      <td>60.0</td>\n",
       "      <td>69.396226</td>\n",
       "      <td>77.0</td>\n",
       "    </tr>\n",
       "    <tr>\n",
       "      <td>01-03</td>\n",
       "      <td>62.0</td>\n",
       "      <td>68.909091</td>\n",
       "      <td>77.0</td>\n",
       "    </tr>\n",
       "    <tr>\n",
       "      <td>01-04</td>\n",
       "      <td>58.0</td>\n",
       "      <td>70.000000</td>\n",
       "      <td>76.0</td>\n",
       "    </tr>\n",
       "    <tr>\n",
       "      <td>01-05</td>\n",
       "      <td>56.0</td>\n",
       "      <td>67.964286</td>\n",
       "      <td>76.0</td>\n",
       "    </tr>\n",
       "    <tr>\n",
       "      <td>01-06</td>\n",
       "      <td>61.0</td>\n",
       "      <td>68.964912</td>\n",
       "      <td>76.0</td>\n",
       "    </tr>\n",
       "    <tr>\n",
       "      <td>01-07</td>\n",
       "      <td>57.0</td>\n",
       "      <td>68.543860</td>\n",
       "      <td>76.0</td>\n",
       "    </tr>\n",
       "  </tbody>\n",
       "</table>\n",
       "</div>"
      ],
      "text/plain": [
       "            tmin       tavg  tmax\n",
       "trip_dates                       \n",
       "01-01       62.0  69.153846  77.0\n",
       "01-02       60.0  69.396226  77.0\n",
       "01-03       62.0  68.909091  77.0\n",
       "01-04       58.0  70.000000  76.0\n",
       "01-05       56.0  67.964286  76.0\n",
       "01-06       61.0  68.964912  76.0\n",
       "01-07       57.0  68.543860  76.0"
      ]
     },
     "execution_count": 22,
     "metadata": {},
     "output_type": "execute_result"
    }
   ],
   "source": [
    "# Load the previous query results into a Pandas DataFrame and add the `trip_dates` range as the `date` index\n",
    "daily_normals_df = pd.DataFrame({\n",
    "    \"trip_dates\": string_date_list,\n",
    "    \"tmin\": min_temp_list,\n",
    "    \"tavg\": avg_temp_list,\n",
    "    \"tmax\": max_temp_list\n",
    "})\n",
    "\n",
    "daily_normals_df = daily_normals_df.set_index(\"trip_dates\")\n",
    "\n",
    "daily_normals_df"
   ]
  },
  {
   "cell_type": "code",
   "execution_count": 23,
   "metadata": {},
   "outputs": [
    {
     "data": {
      "image/png": "[encoded data removed]",
      "text/plain": [
       "<Figure size 432x288 with 1 Axes>"
      ]
     },
     "metadata": {
      "needs_background": "light"
     },
     "output_type": "display_data"
    }
   ],
   "source": [
    "# Plot the daily normals as an area plot with `stacked=False`\n",
    "ax = daily_normals_df.plot.area(stacked=False)\n",
    "trip_start = trip_start_date.replace(year = trip_start_date.year + 1)\n",
    "trip_end = trip_end_date.replace(year = trip_end_date.year + 1)\n",
    "ax.set_title(f\"Daily Normals from {trip_start} to {trip_end}\")\n",
    "ax.set_xlabel(\"Date\")\n",
    "ax.set_ylabel(\"Temperature (F)\")\n",
    "fig = ax.get_figure()\n",
    "fig.savefig(\"./Images/daily_normals_area_chart.png\")"
   ]
  },
  {
   "cell_type": "code",
   "execution_count": null,
   "metadata": {},
   "outputs": [],
   "source": []
  }
 ],
 "metadata": {
  "kernel_info": {
   "name": "python3"
  },
  "kernelspec": {
   "display_name": "Python 3",
   "language": "python",
   "name": "python3"
  },
  "language_info": {
   "codemirror_mode": {
    "name": "ipython",
    "version": 3
   },
   "file_extension": ".py",
   "mimetype": "text/x-python",
   "name": "python",
   "nbconvert_exporter": "python",
   "pygments_lexer": "ipython3",
   "version": "3.7.4"
  },
  "nteract": {
   "version": "0.12.3"
  },
  "varInspector": {
   "cols": {
    "lenName": 16,
    "lenType": 16,
    "lenVar": 40
   },
   "kernels_config": {
    "python": {
     "delete_cmd_postfix": "",
     "delete_cmd_prefix": "del ",
     "library": "var_list.py",
     "varRefreshCmd": "print(var_dic_list())"
    },
    "r": {
     "delete_cmd_postfix": ") ",
     "delete_cmd_prefix": "rm(",
     "library": "var_list.r",
     "varRefreshCmd": "cat(var_dic_list()) "
    }
   },
   "types_to_exclude": [
    "module",
    "function",
    "builtin_function_or_method",
    "instance",
    "_Feature"
   ],
   "window_display": false
  }
 },
 "nbformat": 4,
 "nbformat_minor": 2
}
